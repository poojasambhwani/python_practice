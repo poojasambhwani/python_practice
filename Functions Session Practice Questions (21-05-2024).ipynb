{
 "cells": [
  {
   "cell_type": "code",
   "execution_count": 4,
   "metadata": {},
   "outputs": [
    {
     "name": "stdout",
     "output_type": "stream",
     "text": [
      "Area of Square Area: 64\n",
      "Perimeter of Square: 32\n",
      "Area of Rectangle: 24\n",
      "Perimeter of Rectangle: 22\n"
     ]
    }
   ],
   "source": [
    "def func(l,w):\n",
    "    area = l ** 2\n",
    "    perimeter = 4 * l\n",
    "    print(f\"Area of Square Area: {area}\")\n",
    "    print(f\"Perimeter of Square: {perimeter}\")\n",
    "    area = l * w\n",
    "    perimeter = 2 * (l + w)\n",
    "    print(f\"Area of Rectangle: {area}\")\n",
    "    print(f\"Perimeter of Rectangle: {perimeter}\")\n",
    "    \n",
    "func(8,3)"
   ]
  },
  {
   "cell_type": "code",
   "execution_count": 16,
   "metadata": {},
   "outputs": [
    {
     "name": "stdout",
     "output_type": "stream",
     "text": [
      "5\n",
      "10\n",
      "15\n",
      "20\n",
      "25\n",
      "30\n",
      "35\n",
      "40\n",
      "45\n",
      "50\n"
     ]
    }
   ],
   "source": [
    "def table(x):\n",
    "    for i in range(1,11):\n",
    "        t=x*i\n",
    "        print(t)\n",
    "\n",
    "table(5)"
   ]
  },
  {
   "cell_type": "code",
   "execution_count": 8,
   "metadata": {},
   "outputs": [
    {
     "name": "stdout",
     "output_type": "stream",
     "text": [
      "Enter a string: maam\n",
      "The string is a palindrome.\n"
     ]
    }
   ],
   "source": [
    "def isPalindrome(x):\n",
    "    rev=\"\"\n",
    "    for i in x:\n",
    "        rev=i+rev\n",
    "    if(x==rev):\n",
    "        print(\"The string is a palindrome.\") \n",
    "    else: \n",
    "        print(\"The string is not a palindrome.\")\n",
    "        \n",
    "b=str(input(\"Enter a string: \"))\n",
    "isPalindrome(b)"
   ]
  },
  {
   "cell_type": "code",
   "execution_count": 11,
   "metadata": {},
   "outputs": [
    {
     "name": "stdout",
     "output_type": "stream",
     "text": [
      "Enter the number of elements in the list: 5\n",
      "Enter an element: 34\n",
      "Enter an element: 56\n",
      "Enter an element: 98\n",
      "Enter an element: 76\n",
      "Enter an element: 12\n",
      "Sorted list: [12, 34, 56, 76, 98]\n"
     ]
    }
   ],
   "source": [
    "def bubble_sort():\n",
    "    l = []\n",
    "    b = int(input(\"Enter the number of elements in the list: \"))\n",
    "    for i in range(b):\n",
    "        c = int(input(\"Enter an element: \"))\n",
    "        l.append(c)\n",
    "    n = len(l)\n",
    "    for k in range(n):\n",
    "        for j in range(0, n - k - 1):\n",
    "            if l[j] > l[j + 1]:\n",
    "                l[j], l[j + 1] = l[j + 1], l[j]\n",
    "    return l\n",
    "\n",
    "sort=bubble_sort()\n",
    "print(\"Sorted list:\", sort)"
   ]
  }
 ],
 "metadata": {
  "kernelspec": {
   "display_name": "Python 3",
   "language": "python",
   "name": "python3"
  }
 },
 "nbformat": 4,
 "nbformat_minor": 4
}
