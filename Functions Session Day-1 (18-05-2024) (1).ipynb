{
 "cells": [
  {
   "cell_type": "code",
   "execution_count": 1,
   "metadata": {},
   "outputs": [
    {
     "name": "stdout",
     "output_type": "stream",
     "text": [
      "1\n",
      "2\n",
      "3\n",
      "4\n",
      "5\n",
      "6\n",
      "7\n",
      "8\n",
      "9\n"
     ]
    }
   ],
   "source": [
    "def msg(x):\n",
    "    for i in range(1,x):\n",
    "        print(i)\n",
    "msg(10)"
   ]
  },
  {
   "cell_type": "code",
   "execution_count": 3,
   "metadata": {},
   "outputs": [
    {
     "name": "stdout",
     "output_type": "stream",
     "text": [
      "Enter a number: 5\n",
      "Odd\n"
     ]
    }
   ],
   "source": [
    "x=int(input(\"Enter a number: \"))\n",
    "def evenOdd(x):\n",
    "    if(x%2==0):\n",
    "        print(\"Even\")\n",
    "    else:\n",
    "        print(\"Odd\")\n",
    "    \n",
    "evenOdd(x)"
   ]
  },
  {
   "cell_type": "code",
   "execution_count": 8,
   "metadata": {},
   "outputs": [
    {
     "name": "stdout",
     "output_type": "stream",
     "text": [
      "Enter a number: 25\n",
      "Enter a number: 75\n",
      "The number is divisible by 5.\n"
     ]
    }
   ],
   "source": [
    "x=int(input(\"Enter a number: \"))\n",
    "y=int(input(\"Enter a number: \"))\n",
    "def divisible(x,y):\n",
    "    if(x%5==0 and y%5==0):\n",
    "        print(\"The number is divisible by 5.\")\n",
    "    else:\n",
    "        print(\"Not divisible.\")\n",
    "    \n",
    "divisible(x, y)"
   ]
  },
  {
   "cell_type": "code",
   "execution_count": 9,
   "metadata": {},
   "outputs": [
    {
     "name": "stdout",
     "output_type": "stream",
     "text": [
      "The numbers make a perfect triangle shape.\n"
     ]
    }
   ],
   "source": [
    "def triangle(x,y,z):\n",
    "    if(x+y+z==180):\n",
    "        print(\"The numbers make a perfect triangle shape.\")\n",
    "    else:\n",
    "        print(\"Not.\")\n",
    "        \n",
    "triangle(50,60,70)"
   ]
  },
  {
   "cell_type": "code",
   "execution_count": 18,
   "metadata": {},
   "outputs": [
    {
     "name": "stdout",
     "output_type": "stream",
     "text": [
      "Prime.\n"
     ]
    }
   ],
   "source": [
    "def isPrime(n):\n",
    "    x=0\n",
    "    if(n>1):\n",
    "        for i in range(2,n):\n",
    "            if(n%i==0):\n",
    "                x=1\n",
    "                break\n",
    "        if(x==1):\n",
    "            print(\"Not a prime.\")\n",
    "        else:\n",
    "            print(\"Prime.\")\n",
    "            \n",
    "isPrime(7)"
   ]
  },
  {
   "cell_type": "code",
   "execution_count": 57,
   "metadata": {},
   "outputs": [
    {
     "name": "stdout",
     "output_type": "stream",
     "text": [
      "D 10 E 20 F 30  \n",
      "G 40 H 50  \n",
      "I 60  \n"
     ]
    }
   ],
   "source": [
    "def pattern(x):\n",
    "    count=10\n",
    "    alpha=68\n",
    "    for i in range(1,x+1):\n",
    "        for j in range(i,x+1):\n",
    "            print(chr(alpha),end=\" \")\n",
    "            print(count,end=\" \")\n",
    "            alpha=alpha+1\n",
    "            count=count+10    \n",
    "        print(\" \")  \n",
    "        \n",
    "pattern(3)"
   ]
  },
  {
   "cell_type": "code",
   "execution_count": 66,
   "metadata": {},
   "outputs": [
    {
     "name": "stdout",
     "output_type": "stream",
     "text": [
      "LCM is 84\n"
     ]
    }
   ],
   "source": [
    "#lcm: least common multiplier\n",
    "def lcm(a,b):\n",
    "    if(a>b):\n",
    "        big=a\n",
    "    else:\n",
    "        big=b\n",
    "    while True:\n",
    "        if(big%a==0 and big%b==0):\n",
    "            print(\"LCM is\",big)\n",
    "            break\n",
    "        big=big+1\n",
    "        \n",
    "lcm(12,14)"
   ]
  },
  {
   "cell_type": "code",
   "execution_count": 73,
   "metadata": {},
   "outputs": [
    {
     "name": "stdout",
     "output_type": "stream",
     "text": [
      "6\n"
     ]
    }
   ],
   "source": [
    "#hcf: highest common factor\n",
    "def hcf(a,b):\n",
    "    if(a<b):\n",
    "        small=a\n",
    "    else:\n",
    "        small=b\n",
    "    for i in range(1,small+1):\n",
    "        if((a%i==0 and b%i==0)):\n",
    "            x=i\n",
    "    print(x)\n",
    "        \n",
    "hcf(54,24)"
   ]
  }
 ],
 "metadata": {
  "kernelspec": {
   "display_name": "Python 3",
   "language": "python",
   "name": "python3"
  },
  "language_info": {
   "codemirror_mode": {
    "name": "ipython",
    "version": 3
   },
   "file_extension": ".py",
   "mimetype": "text/x-python",
   "name": "python",
   "nbconvert_exporter": "python",
   "pygments_lexer": "ipython3",
   "version": "3.8.3"
  }
 },
 "nbformat": 4,
 "nbformat_minor": 4
}
