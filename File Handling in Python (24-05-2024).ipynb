{
 "cells": [
  {
   "cell_type": "code",
   "execution_count": 1,
   "metadata": {},
   "outputs": [
    {
     "name": "stdout",
     "output_type": "stream",
     "text": [
      "Hey Pooja!\n"
     ]
    }
   ],
   "source": [
    "#open()\n",
    "#read()/write()\n",
    "#close()\n",
    "\n",
    "#access mode - (r,w)\n",
    "\n",
    "fileObj=open(\"File.txt\")\n",
    "x=fileObj.read()\n",
    "fileObj.close()\n",
    "\n",
    "print(x)"
   ]
  },
  {
   "cell_type": "code",
   "execution_count": 3,
   "metadata": {},
   "outputs": [],
   "source": [
    "fileObj=open(\"File.txt\",\"w\") #write operation\n",
    "fileObj.write(\"Hello World!\")\n",
    "fileObj.close()"
   ]
  },
  {
   "cell_type": "code",
   "execution_count": 4,
   "metadata": {},
   "outputs": [
    {
     "name": "stdout",
     "output_type": "stream",
     "text": [
      "Hello World!\n"
     ]
    }
   ],
   "source": [
    "fileObj=open(\"File.txt\",\"r+\") #read and write both\n",
    "x=fileObj.read()\n",
    "fileObj.write(\"#####\")\n",
    "fileObj.close()\n",
    "\n",
    "print(x)"
   ]
  },
  {
   "cell_type": "code",
   "execution_count": 5,
   "metadata": {},
   "outputs": [
    {
     "name": "stdout",
     "output_type": "stream",
     "text": [
      " World!#####\n"
     ]
    }
   ],
   "source": [
    "fileObj=open(\"File.txt\",\"r+\") #read and write both\n",
    "fileObj.write(\"#####\")\n",
    "x=fileObj.read()\n",
    "fileObj.close()\n",
    "\n",
    "print(x)"
   ]
  },
  {
   "cell_type": "code",
   "execution_count": 6,
   "metadata": {},
   "outputs": [
    {
     "name": "stdout",
     "output_type": "stream",
     "text": [
      "\n"
     ]
    }
   ],
   "source": [
    "fileObj=open(\"File.txt\",\"w+\") #read and write both\n",
    "fileObj.write(\"#####\")\n",
    "x=fileObj.read()\n",
    "fileObj.close()\n",
    "\n",
    "print(x)"
   ]
  },
  {
   "cell_type": "code",
   "execution_count": 7,
   "metadata": {},
   "outputs": [
    {
     "name": "stdout",
     "output_type": "stream",
     "text": [
      "\n"
     ]
    }
   ],
   "source": [
    "fileObj=open(\"File.txt\",\"w+\") #read and write both\n",
    "x=fileObj.read()\n",
    "fileObj.write(\"#####\")\n",
    "fileObj.close()\n",
    "\n",
    "print(x)"
   ]
  },
  {
   "cell_type": "code",
   "execution_count": 8,
   "metadata": {},
   "outputs": [
    {
     "name": "stdout",
     "output_type": "stream",
     "text": [
      "0\n",
      "6\n",
      "\n"
     ]
    }
   ],
   "source": [
    "fileObj=open(\"File.txt\",\"w+\") #read and write both\n",
    "print(fileObj.tell())\n",
    "fileObj.write(\"Jaipur\")\n",
    "print(fileObj.tell())\n",
    "fileObj.close()\n",
    "\n",
    "print(x)"
   ]
  },
  {
   "cell_type": "code",
   "execution_count": 9,
   "metadata": {},
   "outputs": [
    {
     "name": "stdout",
     "output_type": "stream",
     "text": [
      "0\n",
      "2\n",
      "ipur\n"
     ]
    }
   ],
   "source": [
    "fileObj=open(\"File.txt\",\"w+\") #read and write both\n",
    "print(fileObj.tell())\n",
    "fileObj.write(\"Jaipur\")\n",
    "fileObj.seek(2)\n",
    "print(fileObj.tell())\n",
    "x=fileObj.read()\n",
    "fileObj.close()\n",
    "\n",
    "print(x)"
   ]
  },
  {
   "cell_type": "code",
   "execution_count": 10,
   "metadata": {},
   "outputs": [
    {
     "name": "stdout",
     "output_type": "stream",
     "text": [
      "0\n",
      "2\n",
      "2\n"
     ]
    }
   ],
   "source": [
    "fileObj=open(\"File.txt\",\"w+\") #read and write both\n",
    "print(fileObj.tell())\n",
    "fileObj.write(\"Jaipur\")\n",
    "fileObj.seek(2)\n",
    "print(fileObj.tell())\n",
    "x=fileObj.write(\"Ja\")\n",
    "fileObj.close()\n",
    "\n",
    "print(x)"
   ]
  },
  {
   "cell_type": "code",
   "execution_count": 11,
   "metadata": {},
   "outputs": [
    {
     "name": "stdout",
     "output_type": "stream",
     "text": [
      "JaJaur\n"
     ]
    }
   ],
   "source": [
    "with open(\"File.txt\",\"r\") as fileObj:  #we don't need to close() the file with \"with\" keyword.\n",
    "    out=fileObj.read()\n",
    "    \n",
    "print(out)"
   ]
  },
  {
   "cell_type": "code",
   "execution_count": 14,
   "metadata": {},
   "outputs": [
    {
     "name": "stdout",
     "output_type": "stream",
     "text": [
      "JaJaur\n",
      "\n",
      "Jaipur\n",
      "\n"
     ]
    }
   ],
   "source": [
    "with open(\"File.txt\",\"r\") as fileObj:  \n",
    "    print(fileObj.readline()) #readline() will allow to read one line at a time.\n",
    "    print(fileObj.readline())"
   ]
  },
  {
   "cell_type": "code",
   "execution_count": 15,
   "metadata": {},
   "outputs": [
    {
     "name": "stdout",
     "output_type": "stream",
     "text": [
      "['JaJaur\\n', 'Jaipur\\n', 'Rajasthan']\n"
     ]
    }
   ],
   "source": [
    "with open(\"File.txt\",\"r\") as fileObj:  \n",
    "    print(fileObj.readlines()) #readlines() will allow to read multipke lines at a time."
   ]
  },
  {
   "cell_type": "code",
   "execution_count": 17,
   "metadata": {},
   "outputs": [
    {
     "name": "stdout",
     "output_type": "stream",
     "text": [
      "JaJaur\n",
      "Jaipur\n",
      "Rajasthan\n"
     ]
    }
   ],
   "source": [
    "with open(\"File.txt\",\"r\") as fileObj:  \n",
    "    for i in fileObj.readlines():\n",
    "        print(i.strip()) #strip() will remove extra lines and spaces from the end of the strings/"
   ]
  },
  {
   "cell_type": "code",
   "execution_count": 18,
   "metadata": {},
   "outputs": [],
   "source": [
    "# id,name,email (csv files)\n",
    "# id$name$email (dsv files)"
   ]
  },
  {
   "cell_type": "code",
   "execution_count": 27,
   "metadata": {},
   "outputs": [
    {
     "name": "stdout",
     "output_type": "stream",
     "text": [
      "1 Pooja pooja@gmail.com\n",
      "2 Sagar sagar@gmail.com\n"
     ]
    }
   ],
   "source": [
    "with open(\"File.txt\",\"r\") as fileObj:  \n",
    "    for i in fileObj.readlines():\n",
    "        i=i.strip()\n",
    "        x=i.split(\",\")\n",
    "        ids,name,email=x\n",
    "        print(ids,name,email)"
   ]
  },
  {
   "cell_type": "code",
   "execution_count": 30,
   "metadata": {},
   "outputs": [
    {
     "name": "stdout",
     "output_type": "stream",
     "text": [
      "1\n",
      "Pooja\n",
      "pooja@gmail.com\n",
      "2\n",
      "Sagar\n",
      "sagar@gmail.com\n"
     ]
    }
   ],
   "source": [
    "with open(\"File.txt\",\"r\") as fileObj:  \n",
    "    for i in fileObj.readlines():\n",
    "        i=i.strip()\n",
    "        x=i.split(\",\")\n",
    "        for j in x:\n",
    "            print(j)"
   ]
  },
  {
   "cell_type": "code",
   "execution_count": 1,
   "metadata": {},
   "outputs": [],
   "source": [
    "import csv"
   ]
  },
  {
   "cell_type": "code",
   "execution_count": 28,
   "metadata": {},
   "outputs": [
    {
     "name": "stdout",
     "output_type": "stream",
     "text": [
      "1 Pooja pooja@gmail.com\n",
      "2 Sagar sagar@gmail.com\n"
     ]
    }
   ],
   "source": [
    "f=open(\"File.txt\")\n",
    "fileObj = csv.reader(f)\n",
    "for i in fileObj:\n",
    "    ids,name,email=i\n",
    "    print(ids,name,email)"
   ]
  },
  {
   "cell_type": "code",
   "execution_count": 3,
   "metadata": {},
   "outputs": [],
   "source": [
    "filename = 'FileHandling.csv'\n",
    "cols = ['Name', 'Age', 'City']\n",
    "data = [\n",
    "    {'Name': 'Riya', 'Age': 14, 'City': 'Jaipur'},\n",
    "    {'Name': 'Vivek', 'Age': 30, 'City': 'Delhi'}\n",
    "]"
   ]
  },
  {
   "cell_type": "code",
   "execution_count": 4,
   "metadata": {},
   "outputs": [
    {
     "name": "stdout",
     "output_type": "stream",
     "text": [
      "FileHandling.csv\n"
     ]
    }
   ],
   "source": [
    "with open(filename, mode='w', newline='') as file:\n",
    "    w = csv.DictWriter(file, fieldnames=cols)\n",
    "    w.writeheader()\n",
    "    for i in data:\n",
    "        w.writerow(i)\n",
    "        \n",
    "print(filename)"
   ]
  },
  {
   "cell_type": "code",
   "execution_count": 6,
   "metadata": {},
   "outputs": [
    {
     "name": "stdout",
     "output_type": "stream",
     "text": [
      "Data read from the CSV file in the form of a dictionary:\n",
      "{'Name': 'Riya', 'Age': '14', 'City': 'Jaipur'}\n",
      "{'Name': 'Vivek', 'Age': '30', 'City': 'Delhi'}\n"
     ]
    }
   ],
   "source": [
    "with open(filename, mode='r') as file:\n",
    "    r = csv.DictReader(file)\n",
    "    data_from_csv = [i for i in r]\n",
    "\n",
    "print(\"Data read from the CSV file in the form of a dictionary:\")\n",
    "for i in data_from_csv:\n",
    "    print(i)"
   ]
  }
 ],
 "metadata": {
  "kernelspec": {
   "display_name": "Python 3",
   "language": "python",
   "name": "python3"
  },
  "language_info": {
   "codemirror_mode": {
    "name": "ipython",
    "version": 3
   },
   "file_extension": ".py",
   "mimetype": "text/x-python",
   "name": "python",
   "nbconvert_exporter": "python",
   "pygments_lexer": "ipython3",
   "version": "3.8.3"
  }
 },
 "nbformat": 4,
 "nbformat_minor": 4
}
