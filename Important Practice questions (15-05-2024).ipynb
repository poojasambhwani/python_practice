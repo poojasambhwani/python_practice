{
 "cells": [
  {
   "cell_type": "code",
   "execution_count": 1,
   "metadata": {},
   "outputs": [
    {
     "name": "stdout",
     "output_type": "stream",
     "text": [
      "The value of a and b:  20 40\n",
      "The value of a and b:  40 20\n"
     ]
    }
   ],
   "source": [
    "a=20\n",
    "b=40\n",
    "print(\"The value of a and b: \",a,b)\n",
    "a=a+b\n",
    "b=a-b\n",
    "a=a-b\n",
    "print(\"The value of a and b: \",a,b)"
   ]
  },
  {
   "cell_type": "code",
   "execution_count": 2,
   "metadata": {},
   "outputs": [
    {
     "name": "stdout",
     "output_type": "stream",
     "text": [
      "6357\n"
     ]
    }
   ],
   "source": [
    "x=7536\n",
    "sum=0\n",
    "while x>0:\n",
    "    rem=x%10\n",
    "    sum=sum*10+rem\n",
    "    x=x//10\n",
    "print(sum)"
   ]
  },
  {
   "cell_type": "code",
   "execution_count": 7,
   "metadata": {},
   "outputs": [
    {
     "name": "stdout",
     "output_type": "stream",
     "text": [
      "18\n"
     ]
    }
   ],
   "source": [
    "n=\"567\"\n",
    "sum=0\n",
    "for i in n:\n",
    "    sum=sum+int(i)\n",
    "print(sum)"
   ]
  },
  {
   "cell_type": "code",
   "execution_count": 8,
   "metadata": {},
   "outputs": [
    {
     "name": "stdout",
     "output_type": "stream",
     "text": [
      "Enter first digit: 3\n",
      "Enter second digit: 2\n",
      "Enter third digit: 1\n",
      "14\n"
     ]
    }
   ],
   "source": [
    "a=int(input(\"Enter first digit: \"))\n",
    "b=int(input(\"Enter second digit: \"))\n",
    "c=int(input(\"Enter third digit: \"))\n",
    "sq1=a**2\n",
    "sq2=b**2\n",
    "sq3=c**2\n",
    "add=sq1+sq2+sq3\n",
    "print(add)"
   ]
  },
  {
   "cell_type": "code",
   "execution_count": 2,
   "metadata": {},
   "outputs": [
    {
     "name": "stdout",
     "output_type": "stream",
     "text": [
      "Enter a number: 153\n",
      "Armstrong Number\n"
     ]
    }
   ],
   "source": [
    "a=int(input(\"Enter a number: \"))\n",
    "temp=a\n",
    "sum=0\n",
    "while a>0:\n",
    "    rem=a%10\n",
    "    sum=sum+rem*rem*rem\n",
    "    a=a//10\n",
    "if(temp==sum):\n",
    "    print(\"Armstrong Number\")\n",
    "else:\n",
    "    print(\"Not an armstrong number\")"
   ]
  },
  {
   "cell_type": "code",
   "execution_count": 7,
   "metadata": {},
   "outputs": [
    {
     "name": "stdout",
     "output_type": "stream",
     "text": [
      "Enter a 4 digit number: 1634\n",
      "Narcissistic Number\n"
     ]
    }
   ],
   "source": [
    "a=int(input(\"Enter a 4 digit number: \"))\n",
    "temp=a\n",
    "sum=0\n",
    "while a>0:\n",
    "    rem=a%10\n",
    "    sum=sum+rem**4\n",
    "    a=a//10\n",
    "if(temp==sum):\n",
    "    print(\"Narcissistic Number\")\n",
    "else:\n",
    "    print(\"Not a narcissistic number\")"
   ]
  },
  {
   "cell_type": "code",
   "execution_count": 5,
   "metadata": {},
   "outputs": [
    {
     "name": "stdout",
     "output_type": "stream",
     "text": [
      "34.88\n"
     ]
    }
   ],
   "source": [
    "n=34.8756\n",
    "print(f\"{n:.2f}\")"
   ]
  },
  {
   "cell_type": "code",
   "execution_count": 11,
   "metadata": {},
   "outputs": [
    {
     "name": "stdout",
     "output_type": "stream",
     "text": [
      "Enter a number: 35\n",
      "Factors of a given number are:\n",
      "1\n",
      "5\n",
      "7\n",
      "35\n"
     ]
    }
   ],
   "source": [
    "n=int(input(\"Enter a number: \"))\n",
    "print(\"Factors of a given number are:\")\n",
    "for i in range(1,n+1):\n",
    "    if n % i == 0:\n",
    "        print(i)"
   ]
  },
  {
   "cell_type": "code",
   "execution_count": 1,
   "metadata": {},
   "outputs": [
    {
     "name": "stdout",
     "output_type": "stream",
     "text": [
      "Enter 5 float numbers: \n",
      "56.3\n",
      "78.56\n",
      "98.211\n",
      "8.0\n",
      "45.333\n",
      "List of float numbers: [56.3, 78.56, 98.211, 8.0, 45.333]\n"
     ]
    }
   ],
   "source": [
    "l = []\n",
    "print(\"Enter 5 float numbers: \")\n",
    "for i in range(0, 5):\n",
    "    num = float(input())\n",
    "    l.append(num)\n",
    "print(\"List of float numbers:\", l)"
   ]
  },
  {
   "cell_type": "code",
   "execution_count": 9,
   "metadata": {},
   "outputs": [
    {
     "name": "stdout",
     "output_type": "stream",
     "text": [
      "Enter the radius of the cylinder: 24\n",
      "Enter the height of the cylinder: 56\n",
      "Volume of the cylinder: 101283.84\n",
      "Cost of milk: 4051.35\n"
     ]
    }
   ],
   "source": [
    "cost_per_litre = 40\n",
    "radius = float(input(\"Enter the radius of the cylinder: \"))\n",
    "height = float(input(\"Enter the height of the cylinder: \"))\n",
    "volume = 3.14 * radius ** 2 * height\n",
    "cost = volume * cost_per_litre / 1000\n",
    "print(f\"Volume of the cylinder: {volume:.2f}\")\n",
    "print(f\"Cost of milk: {cost:.2f}\")"
   ]
  }
 ],
 "metadata": {
  "kernelspec": {
   "display_name": "Python 3",
   "language": "python",
   "name": "python3"
  },
  "language_info": {
   "codemirror_mode": {
    "name": "ipython",
    "version": 3
   },
   "file_extension": ".py",
   "mimetype": "text/x-python",
   "name": "python",
   "nbconvert_exporter": "python",
   "pygments_lexer": "ipython3",
   "version": "3.8.3"
  }
 },
 "nbformat": 4,
 "nbformat_minor": 4
}
