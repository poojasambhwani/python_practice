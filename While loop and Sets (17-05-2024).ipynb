{
 "cells": [
  {
   "cell_type": "code",
   "execution_count": 9,
   "metadata": {},
   "outputs": [
    {
     "name": "stdout",
     "output_type": "stream",
     "text": [
      "5\n",
      "10\n",
      "15\n",
      "20\n",
      "25\n"
     ]
    }
   ],
   "source": [
    "i=1\n",
    "count=0\n",
    "while(True):\n",
    "    if(i%5==0):\n",
    "        print(i)\n",
    "        count+=1\n",
    "    if(count==5):\n",
    "        break\n",
    "    i+=1"
   ]
  },
  {
   "cell_type": "code",
   "execution_count": 11,
   "metadata": {},
   "outputs": [
    {
     "name": "stdout",
     "output_type": "stream",
     "text": [
      "{'naina', 'aman', 'tushar', 'hello', 'hey'}\n"
     ]
    }
   ],
   "source": [
    "s=\"hey tushar hello aman hey naina tushar\"\n",
    "myset=s.split()\n",
    "u=set(myset)\n",
    "print(u)"
   ]
  },
  {
   "cell_type": "code",
   "execution_count": 24,
   "metadata": {},
   "outputs": [
    {
     "name": "stdout",
     "output_type": "stream",
     "text": [
      "{'hey': 2, 'tushar': 2, 'hello': 1, 'aman': 1, 'naina': 1}\n"
     ]
    }
   ],
   "source": [
    "s=\"hey tushar hello aman hey naina tushar\"\n",
    "myset=s.split()\n",
    "count={}\n",
    "for i in myset:\n",
    "    if i in count:\n",
    "        count[i] += 1\n",
    "    else:\n",
    "        count[i] = 1\n",
    "print(count)"
   ]
  }
 ],
 "metadata": {
  "kernelspec": {
   "display_name": "Python 3",
   "language": "python",
   "name": "python3"
  },
  "language_info": {
   "codemirror_mode": {
    "name": "ipython",
    "version": 3
   },
   "file_extension": ".py",
   "mimetype": "text/x-python",
   "name": "python",
   "nbconvert_exporter": "python",
   "pygments_lexer": "ipython3",
   "version": "3.8.3"
  }
 },
 "nbformat": 4,
 "nbformat_minor": 4
}
