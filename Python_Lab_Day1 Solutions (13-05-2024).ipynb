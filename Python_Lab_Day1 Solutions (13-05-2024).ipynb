{
 "cells": [
  {
   "cell_type": "code",
   "execution_count": 1,
   "metadata": {},
   "outputs": [
    {
     "name": "stdout",
     "output_type": "stream",
     "text": [
      "Enter your name: Pooja\n",
      "Hello Pooja\n"
     ]
    }
   ],
   "source": [
    "name=input(\"Enter your name: \")\n",
    "print(\"Hello\",name)"
   ]
  },
  {
   "cell_type": "code",
   "execution_count": 9,
   "metadata": {},
   "outputs": [
    {
     "name": "stdout",
     "output_type": "stream",
     "text": [
      "Enter first number: 5\n",
      "Enter second number: 4\n",
      "Sum of a and b is: 9\n",
      "Sum of those two numbers is positive.\n"
     ]
    }
   ],
   "source": [
    "a=int(input(\"Enter first number: \"))\n",
    "b=int(input(\"Enter second number: \"))\n",
    "sum=a+b\n",
    "print(\"Sum of a and b is:\",sum)\n",
    "if sum>=0:\n",
    "    print(\"Sum of those two numbers is positive.\")\n",
    "else:\n",
    "    print(\"Sum of those two numbers is negative.\")"
   ]
  },
  {
   "cell_type": "code",
   "execution_count": 19,
   "metadata": {},
   "outputs": [
    {
     "name": "stdout",
     "output_type": "stream",
     "text": [
      "Enter a number: 5\n",
      "Incorrect!\n",
      "Enter a number: 8\n",
      "Incorrect!\n",
      "Enter a number: 3\n",
      "Incorrect!\n",
      "Enter a number: 6\n",
      "Correct!\n"
     ]
    }
   ],
   "source": [
    "n = 6\n",
    "for _ in iter(int, 1):\n",
    "    m = int(input(\"Enter a number: \"))\n",
    "    if n == m:\n",
    "        print(\"Correct!\")\n",
    "        break\n",
    "    else:\n",
    "        print(\"Incorrect!\")"
   ]
  },
  {
   "cell_type": "code",
   "execution_count": 29,
   "metadata": {},
   "outputs": [
    {
     "name": "stdout",
     "output_type": "stream",
     "text": [
      "Enter your firstname: Pooja\n",
      "Enter your lastname: Sambhwani\n",
      "Pooja Sambhwani\n"
     ]
    }
   ],
   "source": [
    "firstname=input(\"Enter your firstname: \")\n",
    "lastname=input(\"Enter your lastname: \")\n",
    "wholename = ''.join([firstname,\" \", lastname])\n",
    "print(wholename)"
   ]
  },
  {
   "cell_type": "code",
   "execution_count": 27,
   "metadata": {},
   "outputs": [
    {
     "name": "stdout",
     "output_type": "stream",
     "text": [
      "Enter a string: WHat a vIEw!\n",
      "whAT A VieW!\n"
     ]
    }
   ],
   "source": [
    "s=input(\"Enter a string: \")\n",
    "t = ''.join(char.swapcase() for char in s)\n",
    "print(t)"
   ]
  },
  {
   "cell_type": "code",
   "execution_count": 35,
   "metadata": {},
   "outputs": [
    {
     "name": "stdout",
     "output_type": "stream",
     "text": [
      "10\n",
      "24\n"
     ]
    }
   ],
   "source": [
    "l=[1,2,3,4]\n",
    "add=0\n",
    "mult=1\n",
    "for i in l:\n",
    "    add=add+i\n",
    "    mult=mult*i\n",
    "print(add)\n",
    "print(mult)"
   ]
  },
  {
   "cell_type": "code",
   "execution_count": 43,
   "metadata": {},
   "outputs": [
    {
     "name": "stdout",
     "output_type": "stream",
     "text": [
      "False\n"
     ]
    }
   ],
   "source": [
    "x=[\"name\",5,\"place\",23,78,\"animal\",\"thing\",90]\n",
    "a=[6,\"lemon\",\"orange\",12]\n",
    "found=False\n",
    "for i in x:\n",
    "    for j in a:\n",
    "        if i == j:\n",
    "            found = True\n",
    "            break\n",
    "    if found:\n",
    "        break \n",
    "print(found)"
   ]
  },
  {
   "cell_type": "code",
   "execution_count": 44,
   "metadata": {},
   "outputs": [
    {
     "name": "stdout",
     "output_type": "stream",
     "text": [
      "True\n"
     ]
    }
   ],
   "source": [
    "x=[\"name\",5,\"place\",23,78,\"animal\",\"thing\",90]\n",
    "a=[6,\"lemon\",\"orange\",5,23,12,\"name\",78,\"thing\"]\n",
    "found=False\n",
    "for i in x:\n",
    "    for j in a:\n",
    "        if i == j:\n",
    "            found = True\n",
    "            break\n",
    "    if found:\n",
    "        break \n",
    "print(found)"
   ]
  },
  {
   "cell_type": "code",
   "execution_count": 47,
   "metadata": {},
   "outputs": [
    {
     "name": "stdout",
     "output_type": "stream",
     "text": [
      "****\n",
      "*********\n",
      "*******\n"
     ]
    }
   ],
   "source": [
    "hist=[4,9,7]\n",
    "for i in hist:\n",
    "    print(\"*\"*i)"
   ]
  },
  {
   "cell_type": "code",
   "execution_count": 48,
   "metadata": {},
   "outputs": [
    {
     "name": "stdout",
     "output_type": "stream",
     "text": [
      "[8, 8, 18, 5, 3]\n"
     ]
    }
   ],
   "source": [
    "lit = [5, 8, 4, 18, 8, 55, 6, 8, 3, 18, 5, 3, 44]\n",
    "found = set()\n",
    "same = []\n",
    "for i in lit:\n",
    "    if i in found:\n",
    "        same.append(i)\n",
    "    else:\n",
    "        found.add(i)\n",
    "print(same)"
   ]
  },
  {
   "cell_type": "code",
   "execution_count": 49,
   "metadata": {},
   "outputs": [
    {
     "name": "stdout",
     "output_type": "stream",
     "text": [
      "['snack', 'crocodile', 'zebra', 'lion', 'tiger', 'cat']\n"
     ]
    }
   ],
   "source": [
    "lst = [\"cat\", \"tiger\", \"lion\", \"zebra\", \"crocodile\", \"snack\"]\n",
    "l = len(lst)\n",
    "for i in range(l // 2):\n",
    "    lst[i], lst[l - i - 1] = lst[l - i - 1], lst[i]\n",
    "print(lst)"
   ]
  }
 ],
 "metadata": {
  "kernelspec": {
   "display_name": "Python 3",
   "language": "python",
   "name": "python3"
  },
  "language_info": {
   "codemirror_mode": {
    "name": "ipython",
    "version": 3
   },
   "file_extension": ".py",
   "mimetype": "text/x-python",
   "name": "python",
   "nbconvert_exporter": "python",
   "pygments_lexer": "ipython3",
   "version": "3.8.3"
  }
 },
 "nbformat": 4,
 "nbformat_minor": 4
}
