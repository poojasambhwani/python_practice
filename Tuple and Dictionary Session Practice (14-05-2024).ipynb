{
 "cells": [
  {
   "cell_type": "code",
   "execution_count": 1,
   "metadata": {},
   "outputs": [
    {
     "data": {
      "text/plain": [
       "1"
      ]
     },
     "execution_count": 1,
     "metadata": {},
     "output_type": "execute_result"
    }
   ],
   "source": [
    "mytuple=10,20,\"hello\"\n",
    "mytuple.count(10)"
   ]
  },
  {
   "cell_type": "code",
   "execution_count": 2,
   "metadata": {},
   "outputs": [
    {
     "data": {
      "text/plain": [
       "0"
      ]
     },
     "execution_count": 2,
     "metadata": {},
     "output_type": "execute_result"
    }
   ],
   "source": [
    "mytuple.index(10)"
   ]
  },
  {
   "cell_type": "code",
   "execution_count": 4,
   "metadata": {},
   "outputs": [
    {
     "name": "stdout",
     "output_type": "stream",
     "text": [
      "{'h': 1, 'e': 1, 'l': 1, 'o': 1}\n"
     ]
    }
   ],
   "source": [
    "my_dict={}\n",
    "a=\"hello\"\n",
    "for i in a:\n",
    "    my_dict[i]=1\n",
    "print(my_dict)"
   ]
  },
  {
   "cell_type": "code",
   "execution_count": 19,
   "metadata": {},
   "outputs": [
    {
     "name": "stdout",
     "output_type": "stream",
     "text": [
      "{'count': 5}\n"
     ]
    }
   ],
   "source": [
    "count=0\n",
    "mydict={}\n",
    "a=\"hello\"\n",
    "for i in a:\n",
    "    count=count+1\n",
    "mydict={'count':count}\n",
    "print(mydict)"
   ]
  },
  {
   "cell_type": "code",
   "execution_count": 21,
   "metadata": {},
   "outputs": [
    {
     "name": "stdout",
     "output_type": "stream",
     "text": [
      "{'count': 5}\n"
     ]
    }
   ],
   "source": [
    "mydict={\"count\":0}\n",
    "a=\"hello\"\n",
    "for i in a:\n",
    "    mydict[\"count\"]=mydict[\"count\"]+1\n",
    "print(mydict)"
   ]
  },
  {
   "cell_type": "code",
   "execution_count": 36,
   "metadata": {},
   "outputs": [
    {
     "name": "stdout",
     "output_type": "stream",
     "text": [
      "{'e': 2, 'o': 3, 'a': 1}\n"
     ]
    }
   ],
   "source": [
    "vowels='aeiou'\n",
    "mydict={}\n",
    "a=\"hello hey pooja\"\n",
    "for i in a:\n",
    "    if i in vowels:\n",
    "        if i not in mydict:\n",
    "            mydict[i]=1\n",
    "        else:\n",
    "            mydict[i]=mydict[i]+1\n",
    "print(mydict)"
   ]
  }
 ],
 "metadata": {
  "kernelspec": {
   "display_name": "Python 3",
   "language": "python",
   "name": "python3"
  },
  "language_info": {
   "codemirror_mode": {
    "name": "ipython",
    "version": 3
   },
   "file_extension": ".py",
   "mimetype": "text/x-python",
   "name": "python",
   "nbconvert_exporter": "python",
   "pygments_lexer": "ipython3",
   "version": "3.8.3"
  }
 },
 "nbformat": 4,
 "nbformat_minor": 4
}
