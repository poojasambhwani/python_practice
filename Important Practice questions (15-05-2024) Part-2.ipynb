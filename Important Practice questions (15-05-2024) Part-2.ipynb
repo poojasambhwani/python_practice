{
 "cells": [
  {
   "cell_type": "code",
   "execution_count": 6,
   "metadata": {},
   "outputs": [
    {
     "name": "stdout",
     "output_type": "stream",
     "text": [
      "Enter taxable income: 150000\n",
      "Income tax payable: $ 27000.0\n"
     ]
    }
   ],
   "source": [
    "income = float(input(\"Enter taxable income: \"))\n",
    "first = 0\n",
    "second = 0\n",
    "remaining = 0\n",
    "if income > 10000:\n",
    "    first = 10000 * 0\n",
    "else:\n",
    "    first = income * 0\n",
    "if income > 20000:\n",
    "    second = min(10000, income - 10000) * 0.10\n",
    "else:\n",
    "    second = 0\n",
    "if income > 20000:\n",
    "    remaining = max(0, income - 20000) * 0.20\n",
    "else:\n",
    "    remaining = 0\n",
    "total_tax = first + second + remaining\n",
    "print(\"Income tax payable: $\", total_tax)  "
   ]
  },
  {
   "cell_type": "code",
   "execution_count": 3,
   "metadata": {},
   "outputs": [
    {
     "name": "stdout",
     "output_type": "stream",
     "text": [
      "Enter the first angle: 60\n",
      "Enter the first angle: 70\n",
      "Enter the first angle: 50\n",
      "Yes, the angles can form a triangle.\n"
     ]
    }
   ],
   "source": [
    "a1=int(input(\"Enter the first angle: \"))\n",
    "a2=int(input(\"Enter the first angle: \"))\n",
    "a3=int(input(\"Enter the first angle: \"))\n",
    "if a1 + a2 + a3 == 180:\n",
    "    print(\"Yes, the angles can form a triangle.\")\n",
    "else:\n",
    "    print(\"No, the angles cannot form a triangle.\")"
   ]
  },
  {
   "cell_type": "code",
   "execution_count": 7,
   "metadata": {},
   "outputs": [
    {
     "name": "stdout",
     "output_type": "stream",
     "text": [
      "Enter the temperature: 45\n",
      "Enter the humidity: 76\n",
      "Hot\n"
     ]
    }
   ],
   "source": [
    "temp=int(input(\"Enter the temperature: \"))\n",
    "hum=int(input(\"Enter the humidity: \"))\n",
    "if temp>=30 and hum>=90:\n",
    "    print(\"Hot and Humid\")\n",
    "elif temp>=30 and hum<90:\n",
    "    print(\"Hot\")\n",
    "elif temp<30 and hum>=90:\n",
    "    print(\"Cool and Humid\")\n",
    "elif temp<30 and hum<90:\n",
    "    print(\"Cool\")\n",
    "else:\n",
    "    print(\"Invalid Input\")"
   ]
  },
  {
   "cell_type": "code",
   "execution_count": 13,
   "metadata": {},
   "outputs": [
    {
     "name": "stdout",
     "output_type": "stream",
     "text": [
      "Enter 1 for converting 1 cm to ft, 2 for converting 2 km to miles, 3 for converting 3 usd to inr and for 4 exit.1\n",
      "Enter length in cm: 69\n",
      "69.0 cm is equal to 2.2637796 ft\n"
     ]
    }
   ],
   "source": [
    "menu=int(input(\"Enter 1 for converting 1 cm to ft, 2 for converting 2 km to miles, 3 for converting 3 usd to inr and for 4 exit.\"))\n",
    "if menu==1:\n",
    "    cm = float(input(\"Enter length in cm: \"))\n",
    "    ft = cm * 0.0328084\n",
    "    print(cm, \"cm is equal to\", ft, \"ft\")\n",
    "elif menu==2:\n",
    "    km = float(input(\"Enter distance in km: \"))\n",
    "    miles = km * 0.621371\n",
    "    print(km, \"km is equal to\", miles, \"miles\")\n",
    "elif menu==3:\n",
    "    usd = float(input(\"Enter amount in USD: \"))\n",
    "    inr = usd * 83.50\n",
    "    print(usd, \"USD is equal to\", inr, \"INR\")\n",
    "elif menu==4:\n",
    "    print(\"Exit!\")\n",
    "else:\n",
    "    print(\"Invalid Input\")"
   ]
  },
  {
   "cell_type": "code",
   "execution_count": 16,
   "metadata": {},
   "outputs": [
    {
     "name": "stdout",
     "output_type": "stream",
     "text": [
      "-10\n",
      "-9\n",
      "-8\n",
      "-7\n",
      "-6\n",
      "-5\n",
      "-4\n",
      "-3\n",
      "-2\n",
      "-1\n"
     ]
    }
   ],
   "source": [
    "for i in range(-10,0):\n",
    "    print(i)"
   ]
  },
  {
   "cell_type": "code",
   "execution_count": 25,
   "metadata": {},
   "outputs": [
    {
     "name": "stdout",
     "output_type": "stream",
     "text": [
      "1\n",
      "2\n",
      "3\n",
      "4\n",
      "5\n",
      "6\n",
      "7\n",
      "8\n",
      "9\n",
      "10\n"
     ]
    }
   ],
   "source": [
    "i=1\n",
    "while i<=10:\n",
    "    print(i)\n",
    "    i=i+1"
   ]
  },
  {
   "cell_type": "code",
   "execution_count": 28,
   "metadata": {},
   "outputs": [
    {
     "name": "stdout",
     "output_type": "stream",
     "text": [
      "1\n",
      "2\n",
      "3\n",
      "4\n",
      "5\n",
      "Done!\n"
     ]
    }
   ],
   "source": [
    "for i in range(1,6):\n",
    "    print(i)\n",
    "else:\n",
    "    print(\"Done!\")"
   ]
  },
  {
   "cell_type": "code",
   "execution_count": 33,
   "metadata": {},
   "outputs": [
    {
     "name": "stdout",
     "output_type": "stream",
     "text": [
      "Enter a number: 5\n",
      "120\n"
     ]
    }
   ],
   "source": [
    "fact=1\n",
    "x=int(input(\"Enter a number: \"))\n",
    "for i in range(1,x+1):\n",
    "    fact=fact*int(i)\n",
    "    x=x+1\n",
    "print(fact)"
   ]
  },
  {
   "cell_type": "code",
   "execution_count": 39,
   "metadata": {},
   "outputs": [
    {
     "name": "stdout",
     "output_type": "stream",
     "text": [
      "Enter a number: 7\n",
      "343\n"
     ]
    }
   ],
   "source": [
    "cube=0\n",
    "a=int(input(\"Enter a number: \"))\n",
    "for i in range(1,a+1):\n",
    "    cube=a**3\n",
    "print(cube)"
   ]
  },
  {
   "cell_type": "code",
   "execution_count": 46,
   "metadata": {},
   "outputs": [
    {
     "name": "stdout",
     "output_type": "stream",
     "text": [
      "Enter the cost price: 90\n",
      "Enter the selling price: 100\n",
      "Profit of 10\n"
     ]
    }
   ],
   "source": [
    "cost = int(input(\"Enter the cost price: \"))\n",
    "sell = int(input(\"Enter the selling price: \"))\n",
    "if sell > cost:\n",
    "    profit = sell - cost\n",
    "    print(\"Profit of\", profit)\n",
    "elif sell < cost:\n",
    "    loss = cost - sell\n",
    "    print(\"Loss of\", loss)\n",
    "else:\n",
    "    print(\"No profit, no loss\")"
   ]
  },
  {
   "cell_type": "code",
   "execution_count": 50,
   "metadata": {},
   "outputs": [
    {
     "name": "stdout",
     "output_type": "stream",
     "text": [
      "0\n",
      "1\n",
      "3\n",
      "5\n",
      "7\n",
      "9\n",
      "11\n",
      "13\n",
      "15\n",
      "17\n"
     ]
    }
   ],
   "source": [
    "sum=0\n",
    "for i in range(0,10):\n",
    "    new=i+sum\n",
    "    print(new)\n",
    "    sum=i"
   ]
  },
  {
   "cell_type": "code",
   "execution_count": 65,
   "metadata": {},
   "outputs": [
    {
     "name": "stdout",
     "output_type": "stream",
     "text": [
      "1:  1 2 3 4 5 6 7 8 9 10 \n",
      "\n",
      "2:  2 4 6 8 10 12 14 16 18 20 \n",
      "\n",
      "3:  3 6 9 12 15 18 21 24 27 30 \n",
      "\n",
      "4:  4 8 12 16 20 24 28 32 36 40 \n",
      "\n",
      "5:  5 10 15 20 25 30 35 40 45 50 \n",
      "\n",
      "6:  6 12 18 24 30 36 42 48 54 60 \n",
      "\n",
      "7:  7 14 21 28 35 42 49 56 63 70 \n",
      "\n",
      "8:  8 16 24 32 40 48 56 64 72 80 \n",
      "\n",
      "9:  9 18 27 36 45 54 63 72 81 90 \n",
      "\n",
      "10:  10 20 30 40 50 60 70 80 90 100 \n",
      "\n"
     ]
    }
   ],
   "source": [
    "for i in range(1,11):\n",
    "    print(f\"{i}: \",end=\" \")\n",
    "    for j in range(1,11):\n",
    "        mult=i*j\n",
    "        print(f\"{mult}\",end=\" \")\n",
    "    print(\"\\n\")"
   ]
  },
  {
   "cell_type": "code",
   "execution_count": 68,
   "metadata": {},
   "outputs": [
    {
     "name": "stdout",
     "output_type": "stream",
     "text": [
      "Armstrong numbers between 100 to 1000:\n",
      "153\n",
      "370\n",
      "371\n",
      "407\n"
     ]
    }
   ],
   "source": [
    "print(\"Armstrong numbers between 100 to 1000:\")\n",
    "for num in range(100, 1001):\n",
    "    sum_of_cubes = 0\n",
    "    temp = num\n",
    "    while temp > 0:\n",
    "        digit = temp % 10\n",
    "        sum_of_cubes += digit ** 3\n",
    "        temp //= 10\n",
    "    if num == sum_of_cubes:\n",
    "        print(num)"
   ]
  }
 ],
 "metadata": {
  "kernelspec": {
   "display_name": "Python 3",
   "language": "python",
   "name": "python3"
  },
  "language_info": {
   "codemirror_mode": {
    "name": "ipython",
    "version": 3
   },
   "file_extension": ".py",
   "mimetype": "text/x-python",
   "name": "python",
   "nbconvert_exporter": "python",
   "pygments_lexer": "ipython3",
   "version": "3.8.3"
  }
 },
 "nbformat": 4,
 "nbformat_minor": 4
}
